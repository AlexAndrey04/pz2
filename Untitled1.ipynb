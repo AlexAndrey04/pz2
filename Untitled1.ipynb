{
  "metadata": {
    "language_info": {
      "codemirror_mode": {
        "name": "python",
        "version": 3
      },
      "file_extension": ".py",
      "mimetype": "text/x-python",
      "name": "python",
      "nbconvert_exporter": "python",
      "pygments_lexer": "ipython3",
      "version": "3.8"
    },
    "kernelspec": {
      "name": "python",
      "display_name": "Python (Pyodide)",
      "language": "python"
    }
  },
  "nbformat_minor": 4,
  "nbformat": 4,
  "cells": [
    {
      "cell_type": "code",
      "source": "На вход подается строка, состоящая из одного числа. Напишите программу, которая удваивает его.",
      "metadata": {},
      "execution_count": null,
      "outputs": []
    },
    {
      "cell_type": "code",
      "source": "number = int(input())\nprint(number*2)",
      "metadata": {},
      "execution_count": null,
      "outputs": []
    },
    {
      "cell_type": "code",
      "source": "Вводится число. Вывести его квадрат.",
      "metadata": {},
      "execution_count": null,
      "outputs": []
    },
    {
      "cell_type": "code",
      "source": "number = int(input())\nprint(number^2)",
      "metadata": {},
      "execution_count": null,
      "outputs": []
    },
    {
      "cell_type": "code",
      "source": "Вводятся часы, минуты и секунды. Вывести, сколько секунд прошло с полуночи.\nВывести, какая часть суток прошла (число от 0 до 1)",
      "metadata": {
        "trusted": true
      },
      "execution_count": null,
      "outputs": [
        {
          "ename": "<class 'SyntaxError'>",
          "evalue": "invalid syntax (<ipython-input-1-f5c9e0e9fc0a>, line 1)",
          "traceback": [
            "\u001b[0;36m  Cell \u001b[0;32mIn [1], line 1\u001b[0;36m\u001b[0m\n\u001b[0;31m    Вводятся часы, минуты и секунды. Вывести, сколько секунд прошло с полуночи.\u001b[0m\n\u001b[0m             ^\u001b[0m\n\u001b[0;31mSyntaxError\u001b[0m\u001b[0;31m:\u001b[0m invalid syntax\n"
          ],
          "output_type": "error"
        }
      ]
    },
    {
      "cell_type": "code",
      "source": "hours = int(input())\nminutes = int(input())\nseconds = int(input())\nseconds = seconds + (minutes * 60) + (hours * 3600)\nprint(seconds)\nprint(seconds / 86400)\n",
      "metadata": {},
      "execution_count": null,
      "outputs": []
    },
    {
      "cell_type": "code",
      "source": "Вводится число. Вывести, оканчивается ли оно на цифру 7, не используя приведение к строке и операции над строками",
      "metadata": {},
      "execution_count": null,
      "outputs": []
    },
    {
      "cell_type": "code",
      "source": "",
      "metadata": {},
      "execution_count": null,
      "outputs": []
    },
    {
      "cell_type": "code",
      "source": "Вводятся коэффициенты уравнения ax2+bx+c=0. Вывести его корни(не забыть проверить, что a не равно 0)",
      "metadata": {},
      "execution_count": null,
      "outputs": []
    },
    {
      "cell_type": "code",
      "source": "from cmath import sqrt\n\n\na = int(input())\nb = int(input())\nc = int(input())\nx1 = 0\nx2 = 0\nd = b * b - 4 * a * c\nif d > 0:\n    x1 = (-b + sqrt(d)) // (2 * a)\n    x2 = (-b + sqrt(d)) // (2 * a)\n    print(x1,x2)\nelif d == 0:\n    x1 = (-b) // (2 * a)\n    print(x1)\nelif d < 0:\n    print(\"---------\")",
      "metadata": {},
      "execution_count": null,
      "outputs": []
    },
    {
      "cell_type": "code",
      "source": "Вводятся три числа. Вывести максимум из них.",
      "metadata": {},
      "execution_count": null,
      "outputs": []
    },
    {
      "cell_type": "code",
      "source": "a = int(input())\nb = int(input())\nc = int(input())\nprint(max(a,b,c))",
      "metadata": {},
      "execution_count": null,
      "outputs": []
    },
    {
      "cell_type": "code",
      "source": "Вводится число. Вывести среднее арифметическое (с точностью до двух знаков после запятой) тех чисел в диапазоне от единицы до введённого числа, которые делятся 5 или являются четными.",
      "metadata": {},
      "execution_count": null,
      "outputs": []
    },
    {
      "cell_type": "code",
      "source": "a = int(input())\nb = 0\nc = 0\nd = 0\nfor n in range(1, a + 1):\n    if n % 5 == 0 or n % 2 == 0:\n        c += 1\n        b += n\nd = b / c\nprint(round(d,2))",
      "metadata": {},
      "execution_count": null,
      "outputs": []
    }
  ]
}